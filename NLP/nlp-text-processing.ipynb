{
 "cells": [
  {
   "cell_type": "markdown",
   "id": "b0f1d7e2",
   "metadata": {},
   "source": [
    "# NLP\n",
    "\n",
    "## Text Processing"
   ]
  },
  {
   "cell_type": "code",
   "execution_count": 21,
   "id": "2a79deb4",
   "metadata": {},
   "outputs": [
    {
     "name": "stdout",
     "output_type": "stream",
     "text": [
      "NLTK data path: ['D:\\\\py_prac\\\\langchain-prac\\\\nltk_data']\n"
     ]
    },
    {
     "name": "stderr",
     "output_type": "stream",
     "text": [
      "[nltk_data] Downloading package punkt_tab to D:\\py_prac\\langchain-\n",
      "[nltk_data]     prac\\nltk_data...\n",
      "[nltk_data]   Package punkt_tab is already up-to-date!\n",
      "[nltk_data] Downloading package stopwords to D:\\py_prac\\langchain-\n",
      "[nltk_data]     prac\\nltk_data...\n",
      "[nltk_data]   Package stopwords is already up-to-date!\n"
     ]
    }
   ],
   "source": [
    "\n",
    "import nltk\n",
    "import os\n",
    "import string\n",
    "\n",
    "# Set NLTK data path first\n",
    "nltk.data.path.clear()\n",
    "nltk.data.path.append(r'D:\\py_prac\\langchain-prac\\nltk_data')\n",
    "\n",
    "# Download required resources to the correct directory\n",
    "# Note: Updated to use punkt_tab instead of punkt\n",
    "nltk.download('punkt_tab', download_dir=r'D:\\py_prac\\langchain-prac\\nltk_data')\n",
    "nltk.download('stopwords', download_dir=r'D:\\py_prac\\langchain-prac\\nltk_data')\n",
    "\n",
    "from nltk.corpus import stopwords\n",
    "from nltk.stem import PorterStemmer\n",
    "from nltk.tokenize import word_tokenize\n",
    "\n",
    "# Test the setup\n",
    "print(\"NLTK data path:\", nltk.data.path)"
   ]
  },
  {
   "cell_type": "code",
   "execution_count": 22,
   "id": "4629e306",
   "metadata": {},
   "outputs": [
    {
     "data": {
      "text/plain": [
       "'horses are beautiful animals. they run fast and are very strong.'"
      ]
     },
     "execution_count": 22,
     "metadata": {},
     "output_type": "execute_result"
    }
   ],
   "source": [
    "text = \"Horses are beautiful animals. They run fast and are very strong.\"\n",
    "\n",
    "\n",
    "## STEP 1: Lowercase the text\n",
    "text = text.lower()\n",
    "text"
   ]
  },
  {
   "cell_type": "code",
   "execution_count": 23,
   "id": "a3a1cec6",
   "metadata": {},
   "outputs": [
    {
     "data": {
      "text/plain": [
       "['horses',\n",
       " 'are',\n",
       " 'beautiful',\n",
       " 'animals',\n",
       " '.',\n",
       " 'they',\n",
       " 'run',\n",
       " 'fast',\n",
       " 'and',\n",
       " 'are',\n",
       " 'very',\n",
       " 'strong',\n",
       " '.']"
      ]
     },
     "execution_count": 23,
     "metadata": {},
     "output_type": "execute_result"
    }
   ],
   "source": [
    "## STEEP 2: Tokenize the text\n",
    "tokens = word_tokenize(text)\n",
    "tokens"
   ]
  },
  {
   "cell_type": "code",
   "execution_count": 24,
   "id": "a8058251",
   "metadata": {},
   "outputs": [
    {
     "data": {
      "text/plain": [
       "'!\"#$%&\\'()*+,-./:;<=>?@[\\\\]^_`{|}~'"
      ]
     },
     "execution_count": 24,
     "metadata": {},
     "output_type": "execute_result"
    }
   ],
   "source": [
    "string.punctuation"
   ]
  },
  {
   "cell_type": "code",
   "execution_count": 25,
   "id": "f1ad9ce9",
   "metadata": {},
   "outputs": [
    {
     "name": "stdout",
     "output_type": "stream",
     "text": [
      "Tokens without punctuation: ['horses', 'are', 'beautiful', 'animals', 'they', 'run', 'fast', 'and', 'are', 'very', 'strong']\n"
     ]
    }
   ],
   "source": [
    "# STEP 3: Remove punctuation\n",
    "tokens_no_punct = [token for token in tokens if token not in string.punctuation]\n",
    "print(\"Tokens without punctuation:\", tokens_no_punct)"
   ]
  },
  {
   "cell_type": "code",
   "execution_count": 26,
   "id": "5d467aff",
   "metadata": {},
   "outputs": [
    {
     "data": {
      "text/plain": [
       "{'a',\n",
       " 'about',\n",
       " 'above',\n",
       " 'after',\n",
       " 'again',\n",
       " 'against',\n",
       " 'ain',\n",
       " 'all',\n",
       " 'am',\n",
       " 'an',\n",
       " 'and',\n",
       " 'any',\n",
       " 'are',\n",
       " 'aren',\n",
       " \"aren't\",\n",
       " 'as',\n",
       " 'at',\n",
       " 'be',\n",
       " 'because',\n",
       " 'been',\n",
       " 'before',\n",
       " 'being',\n",
       " 'below',\n",
       " 'between',\n",
       " 'both',\n",
       " 'but',\n",
       " 'by',\n",
       " 'can',\n",
       " 'couldn',\n",
       " \"couldn't\",\n",
       " 'd',\n",
       " 'did',\n",
       " 'didn',\n",
       " \"didn't\",\n",
       " 'do',\n",
       " 'does',\n",
       " 'doesn',\n",
       " \"doesn't\",\n",
       " 'doing',\n",
       " 'don',\n",
       " \"don't\",\n",
       " 'down',\n",
       " 'during',\n",
       " 'each',\n",
       " 'few',\n",
       " 'for',\n",
       " 'from',\n",
       " 'further',\n",
       " 'had',\n",
       " 'hadn',\n",
       " \"hadn't\",\n",
       " 'has',\n",
       " 'hasn',\n",
       " \"hasn't\",\n",
       " 'have',\n",
       " 'haven',\n",
       " \"haven't\",\n",
       " 'having',\n",
       " 'he',\n",
       " \"he'd\",\n",
       " \"he'll\",\n",
       " \"he's\",\n",
       " 'her',\n",
       " 'here',\n",
       " 'hers',\n",
       " 'herself',\n",
       " 'him',\n",
       " 'himself',\n",
       " 'his',\n",
       " 'how',\n",
       " 'i',\n",
       " \"i'd\",\n",
       " \"i'll\",\n",
       " \"i'm\",\n",
       " \"i've\",\n",
       " 'if',\n",
       " 'in',\n",
       " 'into',\n",
       " 'is',\n",
       " 'isn',\n",
       " \"isn't\",\n",
       " 'it',\n",
       " \"it'd\",\n",
       " \"it'll\",\n",
       " \"it's\",\n",
       " 'its',\n",
       " 'itself',\n",
       " 'just',\n",
       " 'll',\n",
       " 'm',\n",
       " 'ma',\n",
       " 'me',\n",
       " 'mightn',\n",
       " \"mightn't\",\n",
       " 'more',\n",
       " 'most',\n",
       " 'mustn',\n",
       " \"mustn't\",\n",
       " 'my',\n",
       " 'myself',\n",
       " 'needn',\n",
       " \"needn't\",\n",
       " 'no',\n",
       " 'nor',\n",
       " 'not',\n",
       " 'now',\n",
       " 'o',\n",
       " 'of',\n",
       " 'off',\n",
       " 'on',\n",
       " 'once',\n",
       " 'only',\n",
       " 'or',\n",
       " 'other',\n",
       " 'our',\n",
       " 'ours',\n",
       " 'ourselves',\n",
       " 'out',\n",
       " 'over',\n",
       " 'own',\n",
       " 're',\n",
       " 's',\n",
       " 'same',\n",
       " 'shan',\n",
       " \"shan't\",\n",
       " 'she',\n",
       " \"she'd\",\n",
       " \"she'll\",\n",
       " \"she's\",\n",
       " 'should',\n",
       " \"should've\",\n",
       " 'shouldn',\n",
       " \"shouldn't\",\n",
       " 'so',\n",
       " 'some',\n",
       " 'such',\n",
       " 't',\n",
       " 'than',\n",
       " 'that',\n",
       " \"that'll\",\n",
       " 'the',\n",
       " 'their',\n",
       " 'theirs',\n",
       " 'them',\n",
       " 'themselves',\n",
       " 'then',\n",
       " 'there',\n",
       " 'these',\n",
       " 'they',\n",
       " \"they'd\",\n",
       " \"they'll\",\n",
       " \"they're\",\n",
       " \"they've\",\n",
       " 'this',\n",
       " 'those',\n",
       " 'through',\n",
       " 'to',\n",
       " 'too',\n",
       " 'under',\n",
       " 'until',\n",
       " 'up',\n",
       " 've',\n",
       " 'very',\n",
       " 'was',\n",
       " 'wasn',\n",
       " \"wasn't\",\n",
       " 'we',\n",
       " \"we'd\",\n",
       " \"we'll\",\n",
       " \"we're\",\n",
       " \"we've\",\n",
       " 'were',\n",
       " 'weren',\n",
       " \"weren't\",\n",
       " 'what',\n",
       " 'when',\n",
       " 'where',\n",
       " 'which',\n",
       " 'while',\n",
       " 'who',\n",
       " 'whom',\n",
       " 'why',\n",
       " 'will',\n",
       " 'with',\n",
       " 'won',\n",
       " \"won't\",\n",
       " 'wouldn',\n",
       " \"wouldn't\",\n",
       " 'y',\n",
       " 'you',\n",
       " \"you'd\",\n",
       " \"you'll\",\n",
       " \"you're\",\n",
       " \"you've\",\n",
       " 'your',\n",
       " 'yours',\n",
       " 'yourself',\n",
       " 'yourselves'}"
      ]
     },
     "execution_count": 26,
     "metadata": {},
     "output_type": "execute_result"
    }
   ],
   "source": [
    "stop_words"
   ]
  },
  {
   "cell_type": "code",
   "execution_count": 27,
   "id": "8045dd2f",
   "metadata": {},
   "outputs": [
    {
     "name": "stdout",
     "output_type": "stream",
     "text": [
      "Filtered tokens (no stopwords): ['horses', 'beautiful', 'animals', 'run', 'fast', 'strong']\n"
     ]
    }
   ],
   "source": [
    "# STEP 4: Remove stopwords\n",
    "stop_words = set(stopwords.words('english'))\n",
    "filtered_tokens = [token for token in tokens_no_punct if token not in stop_words]\n",
    "print(\"Filtered tokens (no stopwords):\", filtered_tokens)"
   ]
  },
  {
   "cell_type": "code",
   "execution_count": 28,
   "id": "2f4d1681",
   "metadata": {},
   "outputs": [
    {
     "name": "stdout",
     "output_type": "stream",
     "text": [
      "Stemmed tokens: ['hors', 'beauti', 'anim', 'run', 'fast', 'strong']\n"
     ]
    }
   ],
   "source": [
    "# STEP 5: Stemming\n",
    "stemmer = PorterStemmer()\n",
    "stemmed_tokens = [stemmer.stem(token) for token in filtered_tokens]\n",
    "print(\"Stemmed tokens:\", stemmed_tokens)"
   ]
  },
  {
   "cell_type": "markdown",
   "id": "287212f8",
   "metadata": {},
   "source": [
    "## Bag of words"
   ]
  },
  {
   "cell_type": "code",
   "execution_count": 36,
   "id": "07b40bea",
   "metadata": {},
   "outputs": [
    {
     "name": "stdout",
     "output_type": "stream",
     "text": [
      "Vocabulary: ['bark' 'cats' 'chase' 'dogs' 'loudly' 'mice']\n",
      "Bag of Words Matrix:\n",
      " [[0 1 1 0 0 1]\n",
      " [0 1 1 0 0 1]\n",
      " [1 0 0 1 1 0]]\n"
     ]
    }
   ],
   "source": [
    "# Example: Bag of Words with scikit-learn (latest version)\n",
    "from sklearn.feature_extraction.text import CountVectorizer\n",
    "\n",
    "# Sample documents\n",
    "docs = [\n",
    "    \"Cats chase mice.\",\n",
    "    \"Mice chase cats.\",\n",
    "    \"Dogs bark loudly.\"\n",
    "]\n",
    "\n",
    "# Create the vectorizer and fit_transform the documents\n",
    "vectorizer = CountVectorizer(max_features=100, stop_words='english', lowercase=True)\n",
    "X = vectorizer.fit_transform(docs)\n",
    "\n",
    "# Show the feature names (vocabulary)\n",
    "print(\"Vocabulary:\", vectorizer.get_feature_names_out())\n",
    "\n",
    "# Show the Bag of Words matrix\n",
    "print(\"Bag of Words Matrix:\\n\", X.toarray())"
   ]
  },
  {
   "cell_type": "code",
   "execution_count": null,
   "id": "c567533d",
   "metadata": {},
   "outputs": [],
   "source": []
  },
  {
   "cell_type": "code",
   "execution_count": 38,
   "id": "9c0d9410",
   "metadata": {},
   "outputs": [
    {
     "data": {
      "text/plain": [
       "(3, 6)"
      ]
     },
     "execution_count": 38,
     "metadata": {},
     "output_type": "execute_result"
    }
   ],
   "source": [
    "type(X)\n",
    "X.shape"
   ]
  },
  {
   "cell_type": "markdown",
   "id": "8414808d",
   "metadata": {},
   "source": [
    "## TF-IDF  - Term frequency - inv. document frequency"
   ]
  },
  {
   "cell_type": "code",
   "execution_count": 31,
   "id": "9c482dc2",
   "metadata": {},
   "outputs": [
    {
     "name": "stdout",
     "output_type": "stream",
     "text": [
      "Vocabulary: ['and' 'are' 'cats' 'chase' 'dogs' 'mice' 'pets']\n",
      "TF-IDF Matrix:\n",
      " [[0.         0.         0.42544054 0.54783215 0.         0.72033345\n",
      "  0.        ]\n",
      " [0.         0.         0.48133417 0.61980538 0.61980538 0.\n",
      "  0.        ]\n",
      " [0.50461134 0.50461134 0.29803159 0.         0.38376993 0.\n",
      "  0.50461134]]\n"
     ]
    }
   ],
   "source": [
    "from sklearn.feature_extraction.text import TfidfVectorizer\n",
    "\n",
    "docs = [\n",
    "    \"Cats chase mice.\",\n",
    "    \"Dogs chase cats.\",\n",
    "    \"Cats and dogs are pets.\"\n",
    "]\n",
    "\n",
    "vectorizer = TfidfVectorizer()\n",
    "X = vectorizer.fit_transform(docs)\n",
    "\n",
    "print(\"Vocabulary:\", vectorizer.get_feature_names_out())\n",
    "print(\"TF-IDF Matrix:\\n\", X.toarray())"
   ]
  },
  {
   "cell_type": "code",
   "execution_count": null,
   "id": "be235446",
   "metadata": {},
   "outputs": [],
   "source": []
  }
 ],
 "metadata": {
  "kernelspec": {
   "display_name": "Python 3",
   "language": "python",
   "name": "python3"
  },
  "language_info": {
   "codemirror_mode": {
    "name": "ipython",
    "version": 3
   },
   "file_extension": ".py",
   "mimetype": "text/x-python",
   "name": "python",
   "nbconvert_exporter": "python",
   "pygments_lexer": "ipython3",
   "version": "3.12.0"
  }
 },
 "nbformat": 4,
 "nbformat_minor": 5
}
