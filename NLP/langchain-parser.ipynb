{
 "cells": [
  {
   "cell_type": "code",
   "execution_count": 2,
   "id": "55eed4b7",
   "metadata": {},
   "outputs": [],
   "source": [
    "from langchain_core.output_parsers import PydanticOutputParser\n",
    "from langchain_core.prompts import ChatPromptTemplate\n",
    "from pydantic import BaseModel, Field\n",
    "from langchain.chat_models import init_chat_model"
   ]
  },
  {
   "cell_type": "code",
   "execution_count": 3,
   "id": "e4c5777d",
   "metadata": {},
   "outputs": [],
   "source": [
    "class ModelResponse(BaseModel):\n",
    "    \"\"\"Model response schema.\"\"\"\n",
    "    model_name: str = Field(description=\"Name of the model\", max_length=20)\n",
    "    response: str = Field(description=\"Response from the model\", max_length=100)\n",
    "    tagline: str = Field(description=\"response created by Vivek\", max_length=50)"
   ]
  },
  {
   "cell_type": "code",
   "execution_count": 4,
   "id": "5130f2a4",
   "metadata": {},
   "outputs": [],
   "source": [
    "resp_parser = PydanticOutputParser(pydantic_object=ModelResponse)"
   ]
  },
  {
   "cell_type": "code",
   "execution_count": 5,
   "id": "f4498e22",
   "metadata": {},
   "outputs": [],
   "source": [
    "model = init_chat_model(model=\"gemini-2.0-flash\", model_provider=\"google_genai\")"
   ]
  },
  {
   "cell_type": "code",
   "execution_count": null,
   "id": "65f297c3",
   "metadata": {},
   "outputs": [],
   "source": []
  }
 ],
 "metadata": {
  "kernelspec": {
   "display_name": "Python 3",
   "language": "python",
   "name": "python3"
  },
  "language_info": {
   "codemirror_mode": {
    "name": "ipython",
    "version": 3
   },
   "file_extension": ".py",
   "mimetype": "text/x-python",
   "name": "python",
   "nbconvert_exporter": "python",
   "pygments_lexer": "ipython3",
   "version": "3.12.0"
  }
 },
 "nbformat": 4,
 "nbformat_minor": 5
}
